{
 "cells": [
  {
   "cell_type": "code",
   "execution_count": 1,
   "metadata": {
    "collapsed": true,
    "scrolled": false
   },
   "outputs": [],
   "source": [
    "import iclientpy as icp\n",
    "import pandas as pd"
   ]
  },
  {
   "cell_type": "code",
   "execution_count": 2,
   "metadata": {
    "collapsed": true
   },
   "outputs": [],
   "source": [
    "default_tiles= icp.TileMapLayer(url=\"http://support.supermap.com.cn:8090/iserver/services/map-china400/rest/maps/China_4326\")\n",
    "map= icp.MapView(default_tiles=default_tiles,crs='EPSG4326',zoom=3)\n",
    "# map= icp.MapView(zoom=3)"
   ]
  },
  {
   "cell_type": "code",
   "execution_count": 3,
   "metadata": {
    "collapsed": true
   },
   "outputs": [],
   "source": [
    "symbolSetting={'codomain': [0, 40000],\n",
    "    'maxR': 100,\n",
    "    'minR': 10,\n",
    "    'circleStyle': { 'fillOpacity': 0.8 },\n",
    "    'fillColor': \"#FFA500\",\n",
    "    'circleHoverStyle': { 'fillOpacity': 1 }\n",
    "}"
   ]
  },
  {
   "cell_type": "code",
   "execution_count": 4,
   "metadata": {
    "collapsed": true
   },
   "outputs": [],
   "source": [
    "data=[{'name': '北京市', 'value': 23014.59},\n",
    " {'name': '天津市', 'value': 16538.189999999999},\n",
    " {'name': '河北省', 'value': 29806.110000000001},\n",
    " {'name': '山西省', 'value': 12766.49},\n",
    " {'name': '内蒙古自治区', 'value': 17831.509999999998},\n",
    " {'name': '辽宁省', 'value': 28669.02},\n",
    " {'name': '吉林省', 'value': 14063.129999999999},\n",
    " {'name': '黑龙江省', 'value': 15083.67},\n",
    " {'name': '上海市', 'value': 25123.450000000001},\n",
    " {'name': '江苏省', 'value': 70116.380000000005},\n",
    " {'name': '浙江省', 'value': 42886.489999999998},\n",
    " {'name': '安徽省', 'value': 22005.630000000001},\n",
    " {'name': '福建省', 'value': 25979.82},\n",
    " {'name': '江西省', 'value': 16723.779999999999},\n",
    " {'name': '山东省', 'value': 63002.330000000002},\n",
    " {'name': '河南省', 'value': 37002.160000000003},\n",
    " {'name': '湖北省', 'value': 29550.189999999999},\n",
    " {'name': '湖南省', 'value': 28902.209999999999},\n",
    " {'name': '广东省', 'value': 72812.550000000003},\n",
    " {'name': '广西壮族自治区', 'value': 16803.119999999999},\n",
    " {'name': '海南省', 'value': 3702.7600000000002},\n",
    " {'name': '重庆市', 'value': 15717.27},\n",
    " {'name': '四川省', 'value': 30053.099999999999},\n",
    " {'name': '贵州省', 'value': 10502.559999999999},\n",
    " {'name': '云南省', 'value': 13619.17},\n",
    " {'name': '西藏自治区', 'value': 1026.3900000000001},\n",
    " {'name': '陕西省', 'value': 18021.860000000001},\n",
    " {'name': '甘肃省', 'value': 6790.3199999999997},\n",
    " {'name': '青海省', 'value': 2417.0500000000002},\n",
    " {'name': '宁夏回族自治区', 'value': 2911.77},\n",
    " {'name': '新疆维吾尔自治区', 'value': 9324.7999999999993}]\n",
    "layer = icp.RankSymbolThemeLayer(\"test\",data,symbolSetting=symbolSetting,address_key='name',value_key='value')"
   ]
  },
  {
   "cell_type": "code",
   "execution_count": 5,
   "metadata": {
    "collapsed": true
   },
   "outputs": [],
   "source": [
    "map.add_layer(layer)"
   ]
  },
  {
   "cell_type": "code",
   "execution_count": 6,
   "metadata": {
    "scrolled": false
   },
   "outputs": [
    {
     "data": {
      "application/vnd.jupyter.widget-view+json": {
       "model_id": "4e9adf21a1b543c79964220f99bdc10a",
       "version_major": 2,
       "version_minor": 0
      },
      "text/plain": [
       "A Jupyter Widget"
      ]
     },
     "metadata": {},
     "output_type": "display_data"
    }
   ],
   "source": [
    "map"
   ]
  },
  {
   "cell_type": "code",
   "execution_count": 7,
   "metadata": {},
   "outputs": [
    {
     "data": {
      "application/vnd.jupyter.widget-view+json": {
       "model_id": "c0b29c1d4bf24b35aab4c20c8ce05e9b",
       "version_major": 2,
       "version_minor": 0
      },
      "text/plain": [
       "A Jupyter Widget"
      ]
     },
     "metadata": {},
     "output_type": "display_data"
    }
   ],
   "source": [
    "layer.interact()"
   ]
  }
 ],
 "metadata": {
  "kernelspec": {
   "display_name": "Python 3",
   "language": "python",
   "name": "python3"
  },
  "language_info": {
   "codemirror_mode": {
    "name": "ipython",
    "version": 3
   },
   "file_extension": ".py",
   "mimetype": "text/x-python",
   "name": "python",
   "nbconvert_exporter": "python",
   "pygments_lexer": "ipython3",
   "version": "3.6.2"
  }
 },
 "nbformat": 4,
 "nbformat_minor": 2
}
