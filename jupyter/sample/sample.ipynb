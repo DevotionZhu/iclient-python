{
 "cells": [
  {
   "cell_type": "markdown",
   "metadata": {},
   "source": [
    "# Sample"
   ]
  },
  {
   "cell_type": "code",
   "execution_count": 1,
   "metadata": {
    "scrolled": false
   },
   "outputs": [],
   "source": [
    "import iclientpy as icp\n",
    "import pandas as pd"
   ]
  },
  {
   "cell_type": "markdown",
   "metadata": {},
   "source": [
    "设置SuperMap iServer的在线地图为底图，生成map对象"
   ]
  },
  {
   "cell_type": "code",
   "execution_count": 2,
   "metadata": {},
   "outputs": [],
   "source": [
    "default_tiles= icp.TileMapLayer(url=\"http://support.supermap.com.cn:8090/iserver/services/map-china400/rest/maps/China_4326\")\n",
    "map= icp.MapView(default_tiles=default_tiles,crs='EPSG4326',zoom=3)"
   ]
  },
  {
   "cell_type": "markdown",
   "metadata": {},
   "source": [
    "配置等级符号专题图"
   ]
  },
  {
   "cell_type": "code",
   "execution_count": 3,
   "metadata": {},
   "outputs": [],
   "source": [
    "symbolSetting={'codomain': [0, 40000],\n",
    "    'maxR': 100,\n",
    "    'minR': 10,\n",
    "    'circleStyle': { 'fillOpacity': 0.8 },\n",
    "    'fillColor': \"#FFA500\",\n",
    "    'circleHoverStyle': { 'fillOpacity': 1 }\n",
    "}"
   ]
  },
  {
   "cell_type": "markdown",
   "metadata": {},
   "source": [
    "构造数据，可以是dict的列表，也可以是列表的列表"
   ]
  },
  {
   "cell_type": "code",
   "execution_count": 4,
   "metadata": {},
   "outputs": [],
   "source": [
    "data=[{'name': '北京市', 'value': 23014.59},\n",
    " {'name': '天津市', 'value': 16538.189999999999},\n",
    " {'name': '河北省', 'value': 29806.110000000001},\n",
    " {'name': '山西省', 'value': 12766.49},\n",
    " {'name': '内蒙古自治区', 'value': 17831.509999999998},\n",
    " {'name': '辽宁省', 'value': 28669.02},\n",
    " {'name': '吉林省', 'value': 14063.129999999999},\n",
    " {'name': '黑龙江省', 'value': 15083.67},\n",
    " {'name': '上海市', 'value': 25123.450000000001},\n",
    " {'name': '江苏省', 'value': 70116.380000000005},\n",
    " {'name': '浙江省', 'value': 42886.489999999998},\n",
    " {'name': '安徽省', 'value': 22005.630000000001},\n",
    " {'name': '福建省', 'value': 25979.82},\n",
    " {'name': '江西省', 'value': 16723.779999999999},\n",
    " {'name': '山东省', 'value': 63002.330000000002},\n",
    " {'name': '河南省', 'value': 37002.160000000003},\n",
    " {'name': '湖北省', 'value': 29550.189999999999},\n",
    " {'name': '湖南省', 'value': 28902.209999999999},\n",
    " {'name': '广东省', 'value': 72812.550000000003},\n",
    " {'name': '广西壮族自治区', 'value': 16803.119999999999},\n",
    " {'name': '海南省', 'value': 3702.7600000000002},\n",
    " {'name': '重庆市', 'value': 15717.27},\n",
    " {'name': '四川省', 'value': 30053.099999999999},\n",
    " {'name': '贵州省', 'value': 10502.559999999999},\n",
    " {'name': '云南省', 'value': 13619.17},\n",
    " {'name': '西藏自治区', 'value': 1026.3900000000001},\n",
    " {'name': '陕西省', 'value': 18021.860000000001},\n",
    " {'name': '甘肃省', 'value': 6790.3199999999997},\n",
    " {'name': '青海省', 'value': 2417.0500000000002},\n",
    " {'name': '宁夏回族自治区', 'value': 2911.77},\n",
    " {'name': '新疆维吾尔自治区', 'value': 9324.7999999999993}]"
   ]
  },
  {
   "cell_type": "markdown",
   "metadata": {},
   "source": [
    "生成等级符号图层，指定数据来源，地址匹配字段以及数据展示字段"
   ]
  },
  {
   "cell_type": "code",
   "execution_count": 5,
   "metadata": {},
   "outputs": [],
   "source": [
    "layer = icp.RankSymbolThemeLayer(\"test\",data,symbol_setting=symbolSetting,address_key='name',value_key='value')"
   ]
  },
  {
   "cell_type": "markdown",
   "metadata": {},
   "source": [
    "将等级符号图层添加到map中"
   ]
  },
  {
   "cell_type": "code",
   "execution_count": 6,
   "metadata": {},
   "outputs": [],
   "source": [
    "map.add_layer(layer)"
   ]
  },
  {
   "cell_type": "code",
   "execution_count": 7,
   "metadata": {
    "scrolled": true
   },
   "outputs": [
    {
     "data": {
      "application/vnd.jupyter.widget-view+json": {
       "model_id": "47afddafc0a14ca49ba4fc3fcef6d075",
       "version_major": 2,
       "version_minor": 0
      },
      "text/html": [
       "<p>Failed to display Jupyter Widget of type <code>MapView</code>.</p>\n",
       "<p>\n",
       "  If you're reading this message in the Jupyter Notebook or JupyterLab Notebook, it may mean\n",
       "  that the widgets JavaScript is still loading. If this message persists, it\n",
       "  likely means that the widgets JavaScript library is either not installed or\n",
       "  not enabled. See the <a href=\"https://ipywidgets.readthedocs.io/en/stable/user_install.html\">Jupyter\n",
       "  Widgets Documentation</a> for setup instructions.\n",
       "</p>\n",
       "<p>\n",
       "  If you're reading this message in another frontend (for example, a static\n",
       "  rendering on GitHub or <a href=\"https://nbviewer.jupyter.org/\">NBViewer</a>),\n",
       "  it may mean that your frontend doesn't currently support widgets.\n",
       "</p>\n"
      ],
      "text/plain": [
       "MapView(basemap={'url': 'https://{s}.tile.openstreetmap.org/{z}/{x}/{y}.png', 'max_zoom': 19, 'attribution': 'Map data (c) <a href=\"https://openstreetmap.org\">OpenStreetMap</a> contributors'}, center=[34.53938423, 108.92825141], crs='EPSG4326', default_tiles=TileMapLayer(options=['attribution', 'detect_retina', 'max_zoom', 'min_zoom', 'opacity', 'tile_size'], url='http://support.supermap.com.cn:8090/iserver/services/map-china400/rest/maps/China_4326'), layers=(TileMapLayer(options=['attribution', 'detect_retina', 'max_zoom', 'min_zoom', 'opacity', 'tile_size'], url='http://support.supermap.com.cn:8090/iserver/services/map-china400/rest/maps/China_4326'), RankSymbolThemeLayer(codomain=(0, 40000), data=[('北京市', 23014.59, 116.407283, 39.904557), ('天津市', 16538.19, 117.215268, 39.120963), ('河北省', 29806.11, 114.469767, 38.036032), ('山西省', 12766.49, 112.562359, 37.874938), ('内蒙古自治区', 17831.51, 111.765996, 40.817419), ('辽宁省', 28669.02, 123.43707, 41.835528), ('吉林省', 14063.13, 125.326104, 43.89604), ('黑龙江省', 15083.67, 126.661901, 45.742659), ('上海市', 25123.45, 121.47398, 31.230075), ('江苏省', 70116.38, 118.763288, 32.061173), ('浙江省', 42886.49, 120.154526, 30.267173), ('安徽省', 22005.63, 117.285057, 31.861554), ('福建省', 25979.82, 119.296405, 26.100023), ('江西省', 16723.78, 115.908871, 28.674211), ('山东省', 63002.33, 117.020411, 36.669569), ('河南省', 37002.16, 113.687284, 34.767907), ('湖北省', 29550.19, 114.341949, 30.545553), ('湖南省', 28902.21, 112.983553, 28.116295), ('广东省', 72812.55, 113.265246, 23.130964), ('广西壮族自治区', 16803.12, 108.327509, 22.816721), ('海南省', 3702.76, 109.691225, 19.047108), ('重庆市', 15717.27, 106.551417, 29.563228), ('四川省', 30053.1, 104.075463, 30.651149), ('贵州省', 10502.56, 106.707603, 26.597997), ('云南省', 13619.17, 102.709129, 25.046619), ('西藏自治区', 1026.39, 91.117774, 29.647017), ('陕西省', 18021.86, 108.953051, 34.267153), ('甘肃省', 6790.32, 103.826321, 36.059405), ('青海省', 2417.05, 101.780064, 36.620995), ('宁夏回族自治区', 2911.77, 106.258639, 38.471179), ('新疆维吾尔自治区', 9324.8, 87.626951, 43.793217)], name='test', options=['is_over_lay'], rrange=(10, 100), symbol_setting={'codomain': [0, 40000], 'maxR': 100, 'minR': 10, 'circleStyle': {'fillOpacity': 0.8}, 'fillColor': '#FFA500', 'circleHoverStyle': {'fillOpacity': 1}})), layout=Layout(align_self='stretch', height='500px'), options=['attribution_control', 'basemap', 'bounce_at_zoom_limits', 'box_zoom', 'center', 'close_popup_on_click', 'crs', 'double_click_zoom', 'dragging', 'inertia', 'inertia_deceleration', 'inertia_max_speed', 'keyboard', 'keyboard_pan_offset', 'keyboard_zoom_offset', 'max_zoom', 'min_zoom', 'prefer_canvas', 'scroll_wheel_zoom', 'tap', 'tap_tolerance', 'touch_zoom', 'world_copy_jump', 'zoom', 'zoom_animation_threshold', 'zoom_control', 'zoom_start'], zoom=3)"
      ]
     },
     "metadata": {},
     "output_type": "display_data"
    }
   ],
   "source": [
    "map"
   ]
  },
  {
   "cell_type": "markdown",
   "metadata": {},
   "source": [
    "启用交互可以调整专题图样式"
   ]
  },
  {
   "cell_type": "code",
   "execution_count": 8,
   "metadata": {},
   "outputs": [
    {
     "data": {
      "application/vnd.jupyter.widget-view+json": {
       "model_id": "26df3e91f24645afa39fb188e3ebfa7c",
       "version_major": 2,
       "version_minor": 0
      },
      "text/html": [
       "<p>Failed to display Jupyter Widget of type <code>VBox</code>.</p>\n",
       "<p>\n",
       "  If you're reading this message in the Jupyter Notebook or JupyterLab Notebook, it may mean\n",
       "  that the widgets JavaScript is still loading. If this message persists, it\n",
       "  likely means that the widgets JavaScript library is either not installed or\n",
       "  not enabled. See the <a href=\"https://ipywidgets.readthedocs.io/en/stable/user_install.html\">Jupyter\n",
       "  Widgets Documentation</a> for setup instructions.\n",
       "</p>\n",
       "<p>\n",
       "  If you're reading this message in another frontend (for example, a static\n",
       "  rendering on GitHub or <a href=\"https://nbviewer.jupyter.org/\">NBViewer</a>),\n",
       "  it may mean that your frontend doesn't currently support widgets.\n",
       "</p>\n"
      ],
      "text/plain": [
       "VBox(children=(IntRangeSlider(value=(1000, 40000), continuous_update=False, description='值域范围:', layout=Layout(width='350px'), max=80000, min=1000), IntRangeSlider(value=(10, 100), continuous_update=False, description='半径范围:', layout=Layout(width='350px'), min=10), ColorPicker(value='#FFA500', description='填充颜色：', layout=Layout(width='350px'))))"
      ]
     },
     "metadata": {},
     "output_type": "display_data"
    }
   ],
   "source": [
    "layer.interact()"
   ]
  }
 ],
 "metadata": {
  "kernelspec": {
   "display_name": "Python 3",
   "language": "python",
   "name": "python3"
  },
  "language_info": {
   "codemirror_mode": {
    "name": "ipython",
    "version": 3
   },
   "file_extension": ".py",
   "mimetype": "text/x-python",
   "name": "python",
   "nbconvert_exporter": "python",
   "pygments_lexer": "ipython3",
   "version": "3.6.3"
  }
 },
 "nbformat": 4,
 "nbformat_minor": 2
}
