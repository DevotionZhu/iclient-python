{
 "cells": [
  {
   "cell_type": "code",
   "execution_count": 1,
   "metadata": {},
   "outputs": [
    {
     "data": {
      "text/html": [
       "<script src=\"../resource/libs/SuperMap.Include.js\"></script>\n",
       "<script src=\"../resource/libs/SuperMap_Basic-8.1.1-15221.js\"></script>\n",
       "<script src=\"../resource/libs/SuperMap_Plot-8.1.1-15221.js\"></script>\n",
       "<link rel=\"stylesheet\" href=\"../resource/theme/default/style.css\"></link>\n",
       "<link rel=\"stylesheet\" href=\"../resource/theme/default/google.css\"></link>"
      ],
      "text/plain": [
       "<IPython.core.display.HTML object>"
      ]
     },
     "metadata": {},
     "output_type": "display_data"
    }
   ],
   "source": [
    "%%html\n",
    "<script src=\"../resource/libs/SuperMap.Include.js\"></script>\n",
    "<script src=\"../resource/libs/SuperMap_Basic-8.1.1-15221.js\"></script>\n",
    "<script src=\"../resource/libs/SuperMap_Plot-8.1.1-15221.js\"></script>\n",
    "<link rel=\"stylesheet\" href=\"../resource/theme/default/style.css\"></link>\n",
    "<link rel=\"stylesheet\" href=\"../resource/theme/default/google.css\"></link>"
   ]
  },
  {
   "cell_type": "code",
   "execution_count": 2,
   "metadata": {},
   "outputs": [],
   "source": [
    "import iclientpy as icp\n",
    "map=icp.Map()"
   ]
  },
  {
   "cell_type": "code",
   "execution_count": 3,
   "metadata": {},
   "outputs": [],
   "source": [
    "icon = icp.Icon()\n",
    "icon.size=(24,21)\n",
    "icon.url=\"..\\resource\\theme\\images\\marker.png\""
   ]
  },
  {
   "cell_type": "code",
   "execution_count": 4,
   "metadata": {},
   "outputs": [],
   "source": [
    "mkr = icp.Marker()\n",
    "mkr.icon=icon\n",
    "mkr.lonlat=(11339634.286396, 4588716.5813769)"
   ]
  },
  {
   "cell_type": "code",
   "execution_count": 5,
   "metadata": {},
   "outputs": [],
   "source": [
    "mkr2=icp.Marker()\n",
    "mkr2.icon=icon\n",
    "mkr2.lonlat=(11339511.286396, 4588733.5813769)"
   ]
  },
  {
   "cell_type": "code",
   "execution_count": 6,
   "metadata": {},
   "outputs": [],
   "source": [
    "markers = icp.Markers()"
   ]
  },
  {
   "cell_type": "code",
   "execution_count": 7,
   "metadata": {},
   "outputs": [],
   "source": [
    "markers.add_marker(marker=mkr)\n",
    "markers.add_marker(mkr2)"
   ]
  },
  {
   "cell_type": "code",
   "execution_count": 8,
   "metadata": {},
   "outputs": [],
   "source": [
    "map.add_layer(markers)"
   ]
  },
  {
   "cell_type": "code",
   "execution_count": 9,
   "metadata": {},
   "outputs": [
    {
     "data": {
      "application/vnd.jupyter.widget-view+json": {
       "model_id": "90f35f243ce44b91a052dddd20491be1",
       "version_major": 2,
       "version_minor": 0
      },
      "text/plain": [
       "A Jupyter Widget"
      ]
     },
     "metadata": {},
     "output_type": "display_data"
    }
   ],
   "source": [
    "map"
   ]
  }
 ],
 "metadata": {
  "kernelspec": {
   "display_name": "Python 3",
   "language": "python",
   "name": "python3"
  },
  "language_info": {
   "codemirror_mode": {
    "name": "ipython",
    "version": 3
   },
   "file_extension": ".py",
   "mimetype": "text/x-python",
   "name": "python",
   "nbconvert_exporter": "python",
   "pygments_lexer": "ipython3",
   "version": "3.6.2"
  }
 },
 "nbformat": 4,
 "nbformat_minor": 2
}
