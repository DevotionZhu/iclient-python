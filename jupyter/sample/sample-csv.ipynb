{
 "cells": [
  {
   "cell_type": "code",
   "execution_count": 1,
   "metadata": {
    "collapsed": true,
    "scrolled": false
   },
   "outputs": [],
   "source": [
    "import iclientpy as icp\n",
    "import pandas as pd"
   ]
  },
  {
   "cell_type": "code",
   "execution_count": 2,
   "metadata": {
    "collapsed": true
   },
   "outputs": [],
   "source": [
    "default_tiles= icp.TileMapLayer(url=\"http://support.supermap.com.cn:8090/iserver/services/map-china400/rest/maps/China_4326\")\n",
    "map= icp.MapView(default_tiles=default_tiles,crs='EPSG4326',zoom=3)\n",
    "# map= icp.MapView(zoom=3)"
   ]
  },
  {
   "cell_type": "code",
   "execution_count": 3,
   "metadata": {},
   "outputs": [
    {
     "data": {
      "text/html": [
       "<script src=\"./resource/libs/iclient9-leaflet.js\"></script>\n",
       "<link rel=\"stylesheet\" href=\"./resource/libs/iclient9-leaflet.css\"></link>"
      ],
      "text/plain": [
       "<IPython.core.display.HTML object>"
      ]
     },
     "metadata": {},
     "output_type": "display_data"
    }
   ],
   "source": [
    "%%html\n",
    "<script src=\"./resource/libs/iclient9-leaflet.js\"></script>\n",
    "<link rel=\"stylesheet\" href=\"./resource/libs/iclient9-leaflet.css\"></link>"
   ]
  },
  {
   "cell_type": "code",
   "execution_count": 4,
   "metadata": {
    "collapsed": true
   },
   "outputs": [],
   "source": [
    "symbolSetting={'codomain': [0, 40000],\n",
    "    'maxR': 100,\n",
    "    'minR': 10,\n",
    "    'circleStyle': { 'fillOpacity': 0.8 },\n",
    "    'fillColor': \"#FFA500\",\n",
    "    'circleHoverStyle': { 'fillOpacity': 1 }\n",
    "}"
   ]
  },
  {
   "cell_type": "code",
   "execution_count": 5,
   "metadata": {
    "collapsed": true
   },
   "outputs": [],
   "source": [
    "df=pd.read_csv(\"province.csv\")\n",
    "df=df.reindex(df.index)\n",
    "convert_column = pd.to_numeric(df[\"2015年\"],errors='coerce')\n",
    "df[\"2015年\"]=convert_column"
   ]
  },
  {
   "cell_type": "code",
   "execution_count": 6,
   "metadata": {
    "collapsed": true
   },
   "outputs": [],
   "source": [
    "layer = icp.RankSymbolThemeLayer(\"test\",data=df,symbolSetting=symbolSetting,address_key='地区',value_key='2015年')"
   ]
  },
  {
   "cell_type": "code",
   "execution_count": 7,
   "metadata": {},
   "outputs": [
    {
     "data": {
      "application/vnd.jupyter.widget-view+json": {
       "model_id": "2aad5eb8a6bf4d7fa8b73914b5a10d5a",
       "version_major": 2,
       "version_minor": 0
      },
      "text/html": [
       "<p>Failed to display Jupyter Widget of type <code>VBox</code>.</p>\n",
       "<p>\n",
       "  If you're reading this message in the Jupyter Notebook or JupyterLab Notebook, it may mean\n",
       "  that the widgets JavaScript is still loading. If this message persists, it\n",
       "  likely means that the widgets JavaScript library is either not installed or\n",
       "  not enabled. See the <a href=\"https://ipywidgets.readthedocs.io/en/stable/user_install.html\">Jupyter\n",
       "  Widgets Documentation</a> for setup instructions.\n",
       "</p>\n",
       "<p>\n",
       "  If you're reading this message in another frontend (for example, a static\n",
       "  rendering on GitHub or <a href=\"https://nbviewer.jupyter.org/\">NBViewer</a>),\n",
       "  it may mean that your frontend doesn't currently support widgets.\n",
       "</p>\n"
      ],
      "text/plain": [
       "VBox(children=(IntRangeSlider(value=(0, 40000), continuous_update=False, description='值域范围:', max=100000), IntRangeSlider(value=(0, 100), continuous_update=False, description='半径范围:'), ColorPicker(value='#FFA500', description='填充颜色：')))"
      ]
     },
     "metadata": {},
     "output_type": "display_data"
    }
   ],
   "source": [
    "layer.interact()"
   ]
  },
  {
   "cell_type": "code",
   "execution_count": 8,
   "metadata": {
    "collapsed": true
   },
   "outputs": [],
   "source": [
    "map.add_layer(layer)"
   ]
  },
  {
   "cell_type": "code",
   "execution_count": 9,
   "metadata": {
    "scrolled": false
   },
   "outputs": [
    {
     "data": {
      "application/vnd.jupyter.widget-view+json": {
       "model_id": "8227e378b991415ca601a0cd5818202e",
       "version_major": 2,
       "version_minor": 0
      },
      "text/html": [
       "<p>Failed to display Jupyter Widget of type <code>MapView</code>.</p>\n",
       "<p>\n",
       "  If you're reading this message in the Jupyter Notebook or JupyterLab Notebook, it may mean\n",
       "  that the widgets JavaScript is still loading. If this message persists, it\n",
       "  likely means that the widgets JavaScript library is either not installed or\n",
       "  not enabled. See the <a href=\"https://ipywidgets.readthedocs.io/en/stable/user_install.html\">Jupyter\n",
       "  Widgets Documentation</a> for setup instructions.\n",
       "</p>\n",
       "<p>\n",
       "  If you're reading this message in another frontend (for example, a static\n",
       "  rendering on GitHub or <a href=\"https://nbviewer.jupyter.org/\">NBViewer</a>),\n",
       "  it may mean that your frontend doesn't currently support widgets.\n",
       "</p>\n"
      ],
      "text/plain": [
       "MapView(center=[34.53938423, 108.92825141], crs='EPSG4326', layers=(TileMapLayer(options=['attribution', 'detect_retina', 'max_zoom', 'min_zoom', 'opacity', 'tile_size'], url='http://support.supermap.com.cn:8090/iserver/services/map-china400/rest/maps/China_4326'), RankSymbolThemeLayer(codomain=(0, 40000), data=[('北京市', 23014.59, 116.407283, 39.904557), ('天津市', 16538.189999999999, 117.215268, 39.120963), ('河北省', 29806.110000000001, 114.469767, 38.036032), ('山西省', 12766.49, 112.562359, 37.874938), ('内蒙古自治区', 17831.509999999998, 111.765996, 40.817419), ('辽宁省', 28669.02, 123.43707, 41.835528), ('吉林省', 14063.129999999999, 125.326104, 43.89604), ('黑龙江省', 15083.67, 126.661901, 45.742659), ('上海市', 25123.450000000001, 121.47398, 31.230075), ('江苏省', 70116.380000000005, 118.763288, 32.061173), ('浙江省', 42886.489999999998, 120.154526, 30.267173), ('安徽省', 22005.630000000001, 117.285057, 31.861554), ('福建省', 25979.82, 119.296405, 26.100023), ('江西省', 16723.779999999999, 115.908871, 28.674211), ('山东省', 63002.330000000002, 117.020411, 36.669569), ('河南省', 37002.160000000003, 113.687284, 34.767907), ('湖北省', 29550.189999999999, 114.341949, 30.545553), ('湖南省', 28902.209999999999, 112.983553, 28.116295), ('广东省', 72812.550000000003, 113.265246, 23.130964), ('广西壮族自治区', 16803.119999999999, 108.327509, 22.816721), ('海南省', 3702.7600000000002, 109.691225, 19.047108), ('重庆市', 15717.27, 106.551417, 29.563228), ('四川省', 30053.099999999999, 104.075463, 30.651149), ('贵州省', 10502.559999999999, 106.707603, 26.597997), ('云南省', 13619.17, 102.709129, 25.046619), ('西藏自治区', 1026.3900000000001, 91.117774, 29.647017), ('陕西省', 18021.860000000001, 108.953051, 34.267153), ('甘肃省', 6790.3199999999997, 103.826321, 36.059405), ('青海省', 2417.0500000000002, 101.780064, 36.620995), ('宁夏回族自治区', 2911.77, 106.258639, 38.471179), ('新疆维吾尔自治区', 9324.7999999999993, 87.626951, 43.793217)], name='test', rrange=(0, 100), symbolSetting={'codomain': [0, 40000], 'maxR': 100, 'minR': 10, 'circleStyle': {'fillOpacity': 0.8}, 'fillColor': '#FFA500', 'circleHoverStyle': {'fillOpacity': 1}})), layout=Layout(align_self='stretch', height='500px'), options=['attribution_control', 'bounce_at_zoom_limits', 'box_zoom', 'center', 'close_popup_on_click', 'crs', 'double_click_zoom', 'dragging', 'inertia', 'inertia_deceleration', 'inertia_max_speed', 'keyboard', 'keyboard_pan_offset', 'keyboard_zoom_offset', 'max_zoom', 'min_zoom', 'scroll_wheel_zoom', 'tap', 'tap_tolerance', 'touch_zoom', 'world_copy_jump', 'zoom', 'zoom_animation_threshold', 'zoom_control', 'zoom_start'], zoom=3)"
      ]
     },
     "metadata": {},
     "output_type": "display_data"
    }
   ],
   "source": [
    "map"
   ]
  }
 ],
 "metadata": {
  "kernelspec": {
   "display_name": "Python 3",
   "language": "python",
   "name": "python3"
  },
  "language_info": {
   "codemirror_mode": {
    "name": "ipython",
    "version": 3
   },
   "file_extension": ".py",
   "mimetype": "text/x-python",
   "name": "python",
   "nbconvert_exporter": "python",
   "pygments_lexer": "ipython3",
   "version": "3.6.2"
  },
  "widgets": {
   "application/vnd.jupyter.widget-state+json": {
    "state": {
     "0b15f6df95f74dd590bf7340f7a09a16": {
      "model_module": "iclientpy",
      "model_module_version": "^0.1.0",
      "model_name": "SuperMapMapModel",
      "state": {
       "_dom_classes": [],
       "_model_module_version": "^0.1.0",
       "_view_count": null,
       "_view_module_version": "^0.1.0",
       "center": [
        30.656483307485072,
        104.06917333602907
       ],
       "layers": [
        "IPY_MODEL_37fc87df9a8c4b1996f17e43113a3fff"
       ],
       "layout": "IPY_MODEL_481f8897e76c43898bd994b72a35b991",
       "options": [
        "attribution_control",
        "bounce_at_zoom_limits",
        "box_zoom",
        "center",
        "close_popup_on_click",
        "double_click_zoom",
        "dragging",
        "inertia",
        "inertia_deceleration",
        "inertia_max_speed",
        "keyboard",
        "keyboard_pan_offset",
        "keyboard_zoom_offset",
        "max_zoom",
        "min_zoom",
        "scroll_wheel_zoom",
        "tap",
        "tap_tolerance",
        "touch_zoom",
        "world_copy_jump",
        "zoom",
        "zoom_animation_threshold",
        "zoom_control",
        "zoom_start"
       ],
       "zoom": 15
      }
     },
     "297205eafa394860b655b0771cc0e513": {
      "model_module": "iclientpy",
      "model_module_version": "^0.1.0",
      "model_name": "SuperMapMapModel",
      "state": {
       "_dom_classes": [],
       "_east": 104.09030914306642,
       "_model_module_version": "^0.1.0",
       "_north": 30.663866522792194,
       "_south": 30.649099528204946,
       "_view_count": null,
       "_view_module_version": "^0.1.0",
       "_west": 104.04803752899171,
       "center": [
        30.656483307485072,
        104.06917333602907
       ],
       "layers": [
        "IPY_MODEL_bb6be088c57a4a8e813994fed088d47e"
       ],
       "layout": "IPY_MODEL_b4e8cd68ddf8420e97967b928c1cc292",
       "options": [
        "attribution_control",
        "bounce_at_zoom_limits",
        "box_zoom",
        "center",
        "close_popup_on_click",
        "double_click_zoom",
        "dragging",
        "inertia",
        "inertia_deceleration",
        "inertia_max_speed",
        "keyboard",
        "keyboard_pan_offset",
        "keyboard_zoom_offset",
        "max_zoom",
        "min_zoom",
        "scroll_wheel_zoom",
        "tap",
        "tap_tolerance",
        "touch_zoom",
        "world_copy_jump",
        "zoom",
        "zoom_animation_threshold",
        "zoom_control",
        "zoom_start"
       ],
       "zoom": 15
      }
     },
     "2fa851591ab846f79587504bad6ac805": {
      "model_module": "@jupyter-widgets/base",
      "model_module_version": "1.0.0",
      "model_name": "LayoutModel",
      "state": {
       "align_self": "stretch",
       "height": "400px"
      }
     },
     "37fc87df9a8c4b1996f17e43113a3fff": {
      "model_module": "iclientpy",
      "model_module_version": "^0.1.0",
      "model_name": "SuperMapCloudTileLayerModel",
      "state": {
       "_model_module_version": "^0.1.0",
       "_view_count": null,
       "_view_module_version": "^0.1.0",
       "_view_name": "SuperMapCloudTileLayerView",
       "attribution": "",
       "options": [
        "attribution",
        "detect_retina",
        "mapName",
        "max_zoom",
        "min_zoom",
        "opacity",
        "tile_size",
        "type"
       ],
       "url": ""
      }
     },
     "481f8897e76c43898bd994b72a35b991": {
      "model_module": "@jupyter-widgets/base",
      "model_module_version": "1.0.0",
      "model_name": "LayoutModel",
      "state": {
       "align_self": "stretch",
       "height": "400px"
      }
     },
     "8da0edb5f0644053b925833fb74664aa": {
      "model_module": "iclientpy",
      "model_module_version": "^0.1.0",
      "model_name": "SuperMapMapModel",
      "state": {
       "_dom_classes": [],
       "_model_module_version": "^0.1.0",
       "_view_count": null,
       "_view_module_version": "^0.1.0",
       "center": [
        30.656483307485072,
        104.06917333602907
       ],
       "layers": [
        "IPY_MODEL_bb5ede621623423eb06d9d78bf7e47bb"
       ],
       "layout": "IPY_MODEL_c67b1d9fbeb84616a29e66da4c78b963",
       "options": [
        "attribution_control",
        "bounce_at_zoom_limits",
        "box_zoom",
        "center",
        "close_popup_on_click",
        "double_click_zoom",
        "dragging",
        "inertia",
        "inertia_deceleration",
        "inertia_max_speed",
        "keyboard",
        "keyboard_pan_offset",
        "keyboard_zoom_offset",
        "max_zoom",
        "min_zoom",
        "scroll_wheel_zoom",
        "tap",
        "tap_tolerance",
        "touch_zoom",
        "world_copy_jump",
        "zoom",
        "zoom_animation_threshold",
        "zoom_control",
        "zoom_start"
       ],
       "zoom": 15
      }
     },
     "9f9d6149a2554fb8a638bcb685df6ede": {
      "model_module": "iclientpy",
      "model_module_version": "^0.1.0",
      "model_name": "SuperMapMapModel",
      "state": {
       "_dom_classes": [],
       "_east": 104.09030914306642,
       "_model_module_version": "^0.1.0",
       "_north": 30.663866522792194,
       "_south": 30.649099528204946,
       "_view_count": null,
       "_view_module_version": "^0.1.0",
       "_west": 104.04803752899171,
       "center": [
        30.656483307485072,
        104.06917333602907
       ],
       "layers": [
        "IPY_MODEL_a40a8bd7834845e9af996f7e4dfacfe6"
       ],
       "layout": "IPY_MODEL_2fa851591ab846f79587504bad6ac805",
       "options": [
        "attribution_control",
        "bounce_at_zoom_limits",
        "box_zoom",
        "center",
        "close_popup_on_click",
        "double_click_zoom",
        "dragging",
        "inertia",
        "inertia_deceleration",
        "inertia_max_speed",
        "keyboard",
        "keyboard_pan_offset",
        "keyboard_zoom_offset",
        "max_zoom",
        "min_zoom",
        "scroll_wheel_zoom",
        "tap",
        "tap_tolerance",
        "touch_zoom",
        "world_copy_jump",
        "zoom",
        "zoom_animation_threshold",
        "zoom_control",
        "zoom_start"
       ],
       "zoom": 15
      }
     },
     "a40a8bd7834845e9af996f7e4dfacfe6": {
      "model_module": "iclientpy",
      "model_module_version": "^0.1.0",
      "model_name": "SuperMapCloudTileLayerModel",
      "state": {
       "_model_module_version": "^0.1.0",
       "_view_count": null,
       "_view_module_version": "^0.1.0",
       "_view_name": "SuperMapCloudTileLayerView",
       "attribution": "",
       "options": [
        "attribution",
        "detect_retina",
        "mapName",
        "max_zoom",
        "min_zoom",
        "opacity",
        "tile_size",
        "type"
       ],
       "url": ""
      }
     },
     "b4e8cd68ddf8420e97967b928c1cc292": {
      "model_module": "@jupyter-widgets/base",
      "model_module_version": "1.0.0",
      "model_name": "LayoutModel",
      "state": {
       "align_self": "stretch",
       "height": "400px"
      }
     },
     "bb5ede621623423eb06d9d78bf7e47bb": {
      "model_module": "iclientpy",
      "model_module_version": "^0.1.0",
      "model_name": "SuperMapCloudTileLayerModel",
      "state": {
       "_model_module_version": "^0.1.0",
       "_view_count": null,
       "_view_module_version": "^0.1.0",
       "_view_name": "SuperMapCloudTileLayerView",
       "attribution": "",
       "options": [
        "attribution",
        "detect_retina",
        "mapName",
        "max_zoom",
        "min_zoom",
        "opacity",
        "tile_size",
        "type"
       ],
       "url": ""
      }
     },
     "bb6be088c57a4a8e813994fed088d47e": {
      "model_module": "iclientpy",
      "model_module_version": "^0.1.0",
      "model_name": "SuperMapCloudTileLayerModel",
      "state": {
       "_model_module_version": "^0.1.0",
       "_view_count": null,
       "_view_module_version": "^0.1.0",
       "_view_name": "SuperMapCloudTileLayerView",
       "attribution": "",
       "options": [
        "attribution",
        "detect_retina",
        "mapName",
        "max_zoom",
        "min_zoom",
        "opacity",
        "tile_size",
        "type"
       ],
       "url": ""
      }
     },
     "c67b1d9fbeb84616a29e66da4c78b963": {
      "model_module": "@jupyter-widgets/base",
      "model_module_version": "1.0.0",
      "model_name": "LayoutModel",
      "state": {
       "align_self": "stretch",
       "height": "400px"
      }
     }
    },
    "version_major": 2,
    "version_minor": 0
   }
  }
 },
 "nbformat": 4,
 "nbformat_minor": 2
}
